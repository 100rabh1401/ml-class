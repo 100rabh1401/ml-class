{
 "cells": [
  {
   "cell_type": "code",
   "execution_count": 1,
   "metadata": {
    "scrolled": true
   },
   "outputs": [],
   "source": [
    "import tensorflow as tf\n",
    "from tensorflow.keras.optimizers import Adam\n",
    "# Importing the ResNet50 model\n",
    "from tensorflow.keras.applications.resnet50 import ResNet50, preprocess_input\n",
    "import numpy as np\n",
    "import os\n",
    "import wandb\n",
    "from wandb.keras import WandbCallback\n",
    "\n",
    "# Set hyper parameters\n",
    "wandb.init()\n",
    "config = wandb.config\n",
    "config.batch_size = 128\n",
    "config.epochs = 10\n",
    "config.learn_rate = 0.001\n",
    "config.dropout = 0.3\n",
    "config.dense_layer_nodes = 128\n",
    "\n",
    "class_names = ['airplane', 'automobile', 'bird', 'cat', 'deer',\n",
    "               'dog', 'frog', 'horse', 'ship', 'truck']\n",
    "num_classes = len(class_names)\n",
    "\n",
    "# Load and normalize data\n",
    "(X_train, y_train), (X_test, y_test) = tf.keras.datasets.cifar10.load_data()\n",
    "X_train = X_train.astype('float32') / 255.\n",
    "X_test = X_test.astype('float32') / 255.\n",
    "\n",
    "# Convert class vectors to binary class matrices.\n",
    "y_train = tf.keras.utils.to_categorical(y_train, num_classes)\n",
    "y_test = tf.keras.utils.to_categorical(y_test, num_classes)\n",
    "\n",
    "# Loading the ResNet50 model with pre-trained ImageNet weights\n",
    "big_model = ResNet50(weights='imagenet', include_top=False,\n",
    "                     input_shape=(X_train.shape[1], X_train.shape[2], 3))\n",
    "\n",
    "# Add new last layer\n",
    "model = tf.keras.models.Sequential()\n",
    "model.add(big_model)\n",
    "model.add(tf.keras.layers.Flatten())\n",
    "model.add(tf.keras.layers.Dense(10, activation='softmax'))\n",
    "\n",
    "# Make the big first layer frozen for speed\n",
    "model.layers[0].trainable = False\n",
    "\n",
    "model.compile(loss='categorical_crossentropy',\n",
    "              optimizer=Adam(config.learn_rate),\n",
    "              metrics=['accuracy'])\n",
    "# log the number of total parameters\n",
    "config.total_params = model.count_params()\n",
    "print(\"Total params: \", config.total_params)\n",
    "model.fit(X_train, y_train, epochs=10, batch_size=128, validation_data=(X_test, y_test),\n",
    "          callbacks=[WandbCallback(data_type=\"image\", labels=class_names, save_model=False)])"
   ]
  }
 ],
 "metadata": {
  "kernelspec": {
   "display_name": "Python 3",
   "language": "python",
   "name": "python3"
  },
  "language_info": {
   "codemirror_mode": {
    "name": "ipython",
    "version": 3
   },
   "file_extension": ".py",
   "mimetype": "text/x-python",
   "name": "python",
   "nbconvert_exporter": "python",
   "pygments_lexer": "ipython3",
   "version": "3.7.3"
  }
 },
 "nbformat": 4,
 "nbformat_minor": 2
}
